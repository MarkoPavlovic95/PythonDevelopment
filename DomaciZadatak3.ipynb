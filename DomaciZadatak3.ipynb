{
  "nbformat": 4,
  "nbformat_minor": 0,
  "metadata": {
    "colab": {
      "name": "DomaciZadatak3.ipynb",
      "provenance": [],
      "collapsed_sections": [],
      "authorship_tag": "ABX9TyPj8bQ5hcAvIObvpjwn9YqA",
      "include_colab_link": true
    },
    "kernelspec": {
      "name": "python3",
      "display_name": "Python 3"
    },
    "language_info": {
      "name": "python"
    }
  },
  "cells": [
    {
      "cell_type": "markdown",
      "metadata": {
        "id": "view-in-github",
        "colab_type": "text"
      },
      "source": [
        "<a href=\"https://colab.research.google.com/github/MarkoPavlovic95/PythonDevelopment/blob/main/DomaciZadatak3.ipynb\" target=\"_parent\"><img src=\"https://colab.research.google.com/assets/colab-badge.svg\" alt=\"Open In Colab\"/></a>"
      ]
    },
    {
      "cell_type": "markdown",
      "metadata": {
        "id": "dUp36g2fNFFg"
      },
      "source": [
        "Domaci zadatak"
      ]
    },
    {
      "cell_type": "markdown",
      "metadata": {
        "id": "DCNi9XezNI6l"
      },
      "source": [
        "Prvi zadatak"
      ]
    },
    {
      "cell_type": "code",
      "metadata": {
        "id": "q_g99Bs0LaIp"
      },
      "source": [
        "n = int (input('Unesite ceo proizvoljan ceo bro:'))\n",
        "\n",
        "if n < 0:\n",
        "  print('Uneli ste negativan broj!!! GRESKA!!!')\n",
        "else:\n",
        "  for i in range(n):\n",
        "    print('Hello World!')\n"
      ],
      "execution_count": null,
      "outputs": []
    },
    {
      "cell_type": "markdown",
      "metadata": {
        "id": "QP9PB6i1OBw1"
      },
      "source": [
        "Drugi zadatak"
      ]
    },
    {
      "cell_type": "code",
      "metadata": {
        "id": "v1sca9fpODHm"
      },
      "source": [
        "n = int (input ('Unesite nenegativan proizvoljan broj:'))\n",
        "\n",
        "if n < 0:\n",
        "  print('GRESKA!!!')\n",
        "else:\n",
        "  for i in range(n+1):\n",
        "    print(i)"
      ],
      "execution_count": null,
      "outputs": []
    },
    {
      "cell_type": "markdown",
      "metadata": {
        "id": "aPgEdlu6PJEb"
      },
      "source": [
        "Treci zadatak"
      ]
    },
    {
      "cell_type": "code",
      "metadata": {
        "id": "3G3oMRihPKrm"
      },
      "source": [
        "n = int (input ('Unesite prvi proizvoljan ceo broj:'))\n",
        "m = int (input ('Unesite drugi proizvoljan ceo broj:'))\n",
        "\n",
        "#if n >= m or m < 0 or n < 0:   ne kaze da brojevi moraju da budu pozitivni\n",
        "if n >= m:\n",
        "  print('Pogresili ste pri unosu!!!')\n",
        "else:\n",
        "  for i in range(n, m+1):\n",
        "    print(i)\n"
      ],
      "execution_count": null,
      "outputs": []
    },
    {
      "cell_type": "markdown",
      "metadata": {
        "id": "fU4O2sKAS5Yj"
      },
      "source": [
        "Cetvrti zadatak"
      ]
    },
    {
      "cell_type": "code",
      "metadata": {
        "id": "OTIW3zARS4xk"
      },
      "source": [
        "n = int (input ('Unesite ceo nenegativan broj:'))\n",
        "faktorijel = 1    #inicijalizujemo neutral za mnozenje\n",
        "\n",
        "for i in range(1,n+1):\n",
        "  faktorijel = faktorijel * i\n",
        "\n",
        "print(faktorijel) #kad odradi sve i kad faktorijel dobije konacnu vrednost ond aga printamo van petlje"
      ],
      "execution_count": null,
      "outputs": []
    },
    {
      "cell_type": "markdown",
      "metadata": {
        "id": "qID6vheVTswy"
      },
      "source": [
        "Peti zadatak"
      ]
    },
    {
      "cell_type": "code",
      "metadata": {
        "id": "Yegqd6mxTtx7"
      },
      "source": [
        "n = int (input ('Unesite ceo nenegativan broj:'))\n",
        "faktorijel = 1\n",
        "\n",
        "for i in range(1, n+1):\n",
        "  faktorijel *= i\n",
        "\n",
        "novaVrednost = faktorijel #posto radimo dvostruki faktorijel dodelili smo da nam je nova vrednost \n",
        "                          #jednostruki faktorijel, pa cemo sada da radimo faktorijel te nove vrednosti\n",
        "\n",
        "dvostruki = 1\n",
        "for k in range(1, novaVrednost+1):\n",
        "  dvostruki *= k\n",
        "#na isti nacin smo odradili faktorijel nove vrednosti\n",
        "print(dvostruki)\n",
        "\n",
        "#DA LI postoji nacin da se ovaj zadatak uradi u jednoj petlji?"
      ],
      "execution_count": null,
      "outputs": []
    },
    {
      "cell_type": "markdown",
      "metadata": {
        "id": "mvpj_W7iVvdH"
      },
      "source": [
        "Sesti zadatak"
      ]
    },
    {
      "cell_type": "code",
      "metadata": {
        "id": "h4FTJqPLVxC1"
      },
      "source": [
        "x = float (input ('Unesite proizvoljan broj:'))\n",
        "n = int (input('Unesite ceo nenegativan broj:'))\n",
        "\n",
        "if n <= 0:\n",
        "  print('Niste uneli brojeve po instrukcijama!!!')\n",
        "else:\n",
        "  z = pow (x, n)\n",
        "\n",
        "print(z)\n"
      ],
      "execution_count": null,
      "outputs": []
    },
    {
      "cell_type": "markdown",
      "metadata": {
        "id": "A3mXx73zWzoV"
      },
      "source": [
        "Sedmi zadatak"
      ]
    },
    {
      "cell_type": "code",
      "metadata": {
        "id": "kvSBm-xUW037"
      },
      "source": [
        "n = int (input('Unesite pozitivan ceo broj:'))\n",
        "\n",
        "if n <= 0:\n",
        "  print('Niste uneli broj po instrukcijama!!!')\n",
        "else:\n",
        "  for i in range(1,n): #stavio sam 1 posto deljenje nulom nije moguce, pa nema smisla pocinjati od 0\n",
        "    if i == 1:\n",
        "      continue\n",
        "    else:\n",
        "      if n % i == 0: #stavljamo uslov da broj mora da nam bude deljiv sa i tj ostatak da mu je 0\n",
        "        print(i)\n",
        "\n"
      ],
      "execution_count": null,
      "outputs": []
    },
    {
      "cell_type": "markdown",
      "metadata": {
        "id": "jicK7pLpZH4i"
      },
      "source": [
        "Osmi zadatak"
      ]
    },
    {
      "cell_type": "code",
      "metadata": {
        "id": "lOFhcEiMZOMd"
      },
      "source": [
        "n = int (input('Unesite proizvoljan ceo broj'))\n",
        "\n",
        "if n % 10 != 0:\n",
        "  print(n) #ako se broj zavrsava na bilo koju cifru sem nule ispisuje nam broj n\n",
        "#sada ispitujemo u else slucaj gde nam se broj zavrsava na 0  \n",
        "else:\n",
        "  a = n % 10 #ideja mi je da izdvojim poslednju cifru unetog broja n, posto ako je uslo u else onda se sigurno cifra zavrsava na nulu\n",
        "  while a == 0:\n",
        "    n = n // 10  #skracujemo n za tu jednu nulu\n",
        "    a = n % 10   #od novog n sada izdvajamo poslednju cifru\n",
        "  print(n) #van while printamo n, nadamo se da je uspelo \n"
      ],
      "execution_count": null,
      "outputs": []
    },
    {
      "cell_type": "markdown",
      "metadata": {
        "id": "yE801vLJlU96"
      },
      "source": [
        "Deveti zadatak (ideja sa stringom umesto intidzera) USPELO"
      ]
    },
    {
      "cell_type": "code",
      "metadata": {
        "id": "iG_lPpO_u-Uh"
      },
      "source": [
        "n = input (' Unesite ceo broj:') #trazimo od korisnika da unese broj\n",
        "                                 #nisam ga pretvarao u int posto nije hteo da mi radi program na drugi nacin da mi radi\n",
        "\n",
        "for i in n: #idemo redom elementima stringa n, posto nam je input uvek string\n",
        "  if i in ['0', '1', '2', '3', '4', '5', '6', '7', '8', '9']:   #sa ovim hocu da se obezbedim da je korisnik uneo sigurno broj, iako ga cuvamo kao string\n",
        "                                                                #moglo je i umesto liste da stoji '0123456789'  \n",
        "     a = '' \n",
        "     b = '' #napravili smo dva prazna stringa da bi u njih mogli da pakujemo brojeve redom kako ih budemo ispitivali\n",
        "\n",
        "     for i in n:\n",
        "        if int (i) % 2 == 0:  #pretvaramo string u int i pitamo se da li je deljiv sa 2, tj da li je paran\n",
        "           a = a + i          #ako jeste taj element pakujemo u string a\n",
        "        else:\n",
        "           b = b + i    \n",
        "   #nakon sto smo napakovali elemente u string dobijamo spojene elemente i to u redosledu koji nam ne odgovara\n",
        "   #npr za unet broj 826544 string a ce nam biti 82644 a nama treba 4 4 6 2 8\n",
        "     a1 = ''\n",
        "     b1 = ''\n",
        "\n",
        "     for k in a:\n",
        "         a1 = k + ' ' + a1 #ovde zapravo invertujemo string a, i bitan nam je redosled, tj pisemo a1 = k + a1, sto znaci da ce nam prvo ici element pa string\n",
        "                           #ubacili smo i razmak (' ') kako bi nam racunar izbacivao razdvojene brojeve\n",
        "\n",
        "     for j in b:\n",
        "         b1 = j + ' ' + b1\n",
        "\n",
        "     \n",
        "    \n",
        "  else:\n",
        "     print('Niste lepo uneli broj!!!')  \n",
        "\n",
        "print(a1) #van svega printamo konacno resenje, par puta sam kiksnuo, pa sam stavio u for petlji, pa mi je ibacivao resenje vise puta u zavisnosti od unosa broja\n",
        "print(b1)"
      ],
      "execution_count": null,
      "outputs": []
    },
    {
      "cell_type": "markdown",
      "metadata": {
        "id": "Uer7PiT4beQF"
      },
      "source": [
        "Deveti zadatak OVA VARIJANTA TI NE RADI"
      ]
    },
    {
      "cell_type": "code",
      "metadata": {
        "id": "St32AggCbfkO"
      },
      "source": [
        "n = int (input('Unesite ceo broj:'))\n",
        "a = [] #inicijalizujemo praznu listu, posto cemo redom da ubacujemo parne clanove broja\n",
        "b = [] #identicno ce u b biti elementi koji su neparni\n",
        "for i in (str(n)): \n",
        "  if int (i) % 2 == 0:\n",
        "   a = a + [int (i)]  #ovde ako je paran ubacujemo ga u listu a, a ako nije onda u b\n",
        "  else:\n",
        "   b = b + [int (i)]\n",
        "\n",
        "a.reverse() #funkcija reverse nam obrce raspored u listi, posto moramo da ih ispisemo od poslednjeg broja ka prvom\n",
        "b.reverse()   \n",
        "   \n",
        "print(a)\n",
        "print(b)\n",
        "#ostaje nam jos samo problem kako da se oslobodimo liste ovde, dakle hocemo da ispisemo clanove liste\n",
        "# treba da nam izbaci 6 2 8\n",
        " #                     1 7 3\n",
        " #ne ide mi nesto da se oslobodim liste...\n",
        " #sad sam nesto zeznuo pa ne ide ni ovako\n",
        "\n"
      ],
      "execution_count": null,
      "outputs": []
    },
    {
      "cell_type": "markdown",
      "metadata": {
        "id": "kBuLgBHo2prv"
      },
      "source": [
        "Test primerak za invertovanje stringa"
      ]
    },
    {
      "cell_type": "code",
      "metadata": {
        "id": "kb4KLH7YmUaQ",
        "colab": {
          "base_uri": "https://localhost:8080/"
        },
        "outputId": "33a37d0b-8cdc-437b-e2a5-a109e35f250c"
      },
      "source": [
        "#TEST PRIMERAK\n",
        "\n",
        "a ='12345'\n",
        "str=''\n",
        "for i in a:\n",
        "  str = i + str  #redosled nam je bitan ako hocemo da nam isprinta obrnuto, zato je i + str\n",
        "print(str)  "
      ],
      "execution_count": null,
      "outputs": [
        {
          "output_type": "stream",
          "name": "stdout",
          "text": [
            "54321\n"
          ]
        }
      ]
    },
    {
      "cell_type": "markdown",
      "metadata": {
        "id": "6jb3Mvj3WGaq"
      },
      "source": [
        "Deseti zadatak"
      ]
    },
    {
      "cell_type": "code",
      "metadata": {
        "id": "TD_UJNfqWH8j"
      },
      "source": [
        "#ispitati da li je deljiv sa sumom svojih cifara\n",
        "\n",
        "n = int (input ('Unesite ceo proizvoljan broj:'))\n",
        "\n",
        "if n < 0:\n",
        "  print(' Niste lepo uneli broj.')\n",
        "else:\n",
        "  sum = 0\n",
        "  while n > 0:\n",
        "     sum = sum + n % 10\n",
        "     n = n // 10\n",
        "\n",
        "  if n % sum == 0:\n",
        "    print('Broj je deljiv sa sumom svojih cifara.')\n",
        "  else:\n",
        "    print('Nije deljiv sa sumom svojih cifara.')\n"
      ],
      "execution_count": null,
      "outputs": []
    },
    {
      "cell_type": "markdown",
      "metadata": {
        "id": "WShhh34MYodM"
      },
      "source": [
        "Jedanaesti zadatak"
      ]
    },
    {
      "cell_type": "code",
      "metadata": {
        "id": "9n1SmVzeYrBp"
      },
      "source": [
        "'''Knjigovodja vodi evidenciju o transakcijama jedne firme i treba da napise izvestaj o godisnjem poslovanju te firme. Firma je tokom godine\n",
        "imala t transakcija. Transakcije su predstavljene celim brojevima i u slucaju da je vrednost transakcije pozitivna, ta transakcija oznacava\n",
        "prihod firme, a u slucaju da je negativna - rashod. Napisati program koji ucitava ceo broj t i podatke o t transakcija (tj. njihove novcane\n",
        "vrednosti) i zatim izracunava i ispisuje ukupan prihod, rashod i zaradu, odnosno gubitak koji je firma ostvarila tokom godine. U slucaju\n",
        "neispravnog unosa ispisati odgovarajucu poruku o gresci.'''\n",
        "\n",
        "\n",
        "t = int (input('Unesite broj transakcija:'))\n",
        "\n",
        "rashod = 0\n",
        "prihod = 0\n",
        "j = 0\n",
        "k = 0\n",
        "\n",
        "for i in range(t):\n",
        "  transakcija = float (input('Unesite svotu transakcije:'))\n",
        "  if transakcija < 0:\n",
        "    rashod = rashod + transakcija\n",
        "    j = j + 1\n",
        "  else:\n",
        "    prihod = prihod + transakcija\n",
        "    k = k + 1\n",
        "\n",
        "print(f'Firma je imala {j} negativnih transakcija i rashodi su {rashod}')\n",
        "print(f'Firma je imala {k} pozitivnih transakcija i prihodi su {prihod}')\n",
        "\n",
        "if prihod > abs(rashod):\n",
        "  print(f'Firma prihoduje {prihod - abs(rashod)}')\n",
        "else:\n",
        "  print(f'Firma gubi {prihod - abs(rashod)}')\n",
        "\n"
      ],
      "execution_count": null,
      "outputs": []
    },
    {
      "cell_type": "markdown",
      "metadata": {
        "id": "jTGO8oLQ43TX"
      },
      "source": [
        "Dvanaesti zadatak"
      ]
    },
    {
      "cell_type": "code",
      "metadata": {
        "id": "b7coeA5a43_A"
      },
      "source": [
        "'''Napisati program koji ucitava pozitivan ceo broj n, a potom i n celih brojeva. Izracunati i ispisati zbir onih brojeva koji su istovremeno\n",
        "neparni i negativni. U slucaju neispravnog unosa ispisati odgovarajucu poruku o gresci'''\n",
        "\n",
        "n = int(input ('Unesite pozitivan ceo broj:'))\n",
        "\n",
        "zbir = 0\n",
        "\n",
        "for i in range(n):\n",
        "  m = int (input('Unesite pozitivan proizvoljan broj:'))\n",
        "  if m % 2 != 0 and m < 0:\n",
        "    zbir = zbir + m\n",
        "\n",
        "print(zbir) "
      ],
      "execution_count": null,
      "outputs": []
    },
    {
      "cell_type": "markdown",
      "metadata": {
        "id": "PBvff2cJ6q1_"
      },
      "source": [
        "Trinaesti zadatak"
      ]
    },
    {
      "cell_type": "code",
      "metadata": {
        "id": "2mLJBitn6tVb"
      },
      "source": [
        "'''Napisati program koji ucitava cele brojeve sve dok se ne unese broj 0 i ispisuje proizvod onih unetih brojeva koji su pozitivni\n",
        "'''\n",
        "proizvod = 1\n",
        "i = 0\n",
        "#ovi zadaci sa BESKONACNOM PETLJOM su jako interesantni\n",
        "while True:  #beskonacna petlja\n",
        "  n = int (input('Unesite ceo broj:'))\n",
        "  if n == 0:\n",
        "    break\n",
        "  elif n <4 0:\n",
        "    proizvod *= n\n",
        "  else:\n",
        "    continue\n",
        "  i += 1\n",
        "\n",
        "print(proizvod)"
      ],
      "execution_count": null,
      "outputs": []
    },
    {
      "cell_type": "markdown",
      "metadata": {
        "id": "cBsFDcCxcD-u"
      },
      "source": [
        "Cetrnaesti zadatak"
      ]
    },
    {
      "cell_type": "code",
      "metadata": {
        "id": "g5uweSgUZ_rE"
      },
      "source": [
        "n = int (input ('Unesite ceo pozitivan broj:'))\n",
        "\n",
        "a = False\n",
        "for i in str (n):\n",
        "  if int(i) % 5 == 0:\n",
        "    a = True\n",
        "  \n",
        "if a == True:\n",
        "  print('Broj n ima 5 u sebi.')\n",
        "else:\n",
        "  print('Broj n nema broj 5 u sebi.')\n",
        "\n",
        "  \n",
        "\n",
        "\n",
        "    \n",
        "\n"
      ],
      "execution_count": null,
      "outputs": []
    }
  ]
}