{
  "nbformat": 4,
  "nbformat_minor": 0,
  "metadata": {
    "colab": {
      "name": "Domaci_6_MarkoPavlovic.ipynb",
      "provenance": [],
      "collapsed_sections": [],
      "authorship_tag": "ABX9TyNN5fcPtv+jp/L8UIpGzihg",
      "include_colab_link": true
    },
    "kernelspec": {
      "name": "python3",
      "display_name": "Python 3"
    },
    "language_info": {
      "name": "python"
    }
  },
  "cells": [
    {
      "cell_type": "markdown",
      "metadata": {
        "id": "view-in-github",
        "colab_type": "text"
      },
      "source": [
        "<a href=\"https://colab.research.google.com/github/MarkoPavlovic95/PythonDevelopment/blob/main/Domaci_6_MarkoPavlovic.ipynb\" target=\"_parent\"><img src=\"https://colab.research.google.com/assets/colab-badge.svg\" alt=\"Open In Colab\"/></a>"
      ]
    },
    {
      "cell_type": "markdown",
      "metadata": {
        "id": "3EaTMii8uSi4"
      },
      "source": [
        "DOMACI ZADATAK SA 6. CASA"
      ]
    },
    {
      "cell_type": "markdown",
      "metadata": {
        "id": "nrYo1kmTuisW"
      },
      "source": [
        "(1.) PRVI ZADATAK"
      ]
    },
    {
      "cell_type": "code",
      "metadata": {
        "id": "KqtU58ITth2J"
      },
      "source": [
        "'''\n",
        "\"1. Napisati funkciju min(x, y, z) koja izračunava minimum tri broja. Funkciju napisati na dva načina, jednom korišćenjem listi, drugi put bez korišćenja listi.\\n\",\n",
        "        \"Napisati program koji učitava tri cela broja i ispisuje njihov minimum.\\n\",\n",
        "'''\n",
        "# najpre cemo da odradimo bez koriscenja listi\n",
        "\n",
        "def min(x, y, z):\n",
        "  if x < y and x < z:\n",
        "    min = x\n",
        "  elif y < x and y < z:\n",
        "    min = y\n",
        "  else:\n",
        "    min = z\n",
        "  \n",
        "  return min\n",
        "\n",
        "x = int (input ('Unesite ceo broj x:'))\n",
        "y = int (input ('Unesite ceo broj y:'))\n",
        "z = int (input ('Unesite ceo broj z:'))\n",
        "# podrazumevacemo da je korisnikov unos ispravan\n",
        " \n",
        "print( f'Najmanji broj je {min(x, y, z)}')"
      ],
      "execution_count": null,
      "outputs": []
    },
    {
      "cell_type": "markdown",
      "metadata": {
        "id": "eXkUFUUqwR2c"
      },
      "source": [
        "(1.) Prvi zadatak sa upotrebom liste"
      ]
    },
    {
      "cell_type": "code",
      "metadata": {
        "id": "oS1gO_A2wX8M"
      },
      "source": [
        "# sada sa koriscenjem liste\n",
        "\n",
        "def minimum(x, y, z):\n",
        "  # hocemo da stavimo sve elemente u listu, pa da vidimo koji od tih elemenata je minimalan\n",
        "  # najpre cemo da inicijalizujemo minimum\n",
        "  lista = [x, y, z]\n",
        "  min = lista[0]\n",
        "  #stavili smo da nam je minimum prva cifra u listi, tj pozicija nula\n",
        "\n",
        "  for i in lista[1:]:\n",
        "    if i < min:\n",
        "      min = i\n",
        "\n",
        "  return min\n",
        "\n",
        "x = int (input ('Unesite ceo broj x:'))\n",
        "y = int (input ('Unesite ceo broj y:'))\n",
        "z = int (input ('Unesite ceo broj z:'))\n",
        "\n",
        "print(f'Minimum unetih brojeva je {minimum(x, y, z)}')\n"
      ],
      "execution_count": null,
      "outputs": []
    },
    {
      "cell_type": "markdown",
      "metadata": {
        "id": "5SyYFWCWyD_g"
      },
      "source": [
        "(2.) DRUGI ZADATAK"
      ]
    },
    {
      "cell_type": "code",
      "metadata": {
        "colab": {
          "base_uri": "https://localhost:8080/"
        },
        "id": "FxJuykaTyMVj",
        "outputId": "cd88dbaf-7a1b-47a9-fe98-68181c6ab9bc"
      },
      "source": [
        "'''\n",
        " \"2. Napisati program koji testira ove funkcije:\\n\",\n",
        "        \"- Napisatu funkciju koja računa kvadrat unetog broja\\n\",\n",
        "        \"- Napisati funkciju koja računa apsolutnu vrednost unetog broja\\n\",\n",
        "        \"- Napisati funkciju koja računa kub unetog broja\\n\",\n",
        "        \"- Napisati funkciju koja računa x^n gde su x i n argumenti funkcije\\n\",\n",
        "        \"- Napisati funkciju koja računa fibonačijev niz, fibonaci(n)\\n\",\n",
        "'''\n",
        "\n",
        "def kvadrat(x):\n",
        "  return x * x\n",
        "\n",
        "def apsolutna(x):\n",
        "  return abs(x)\n",
        "\n",
        "def kub(x):\n",
        "  return x ** 3\n",
        "\n",
        "def stepen(x, n):\n",
        "  return pow (x, n)\n",
        "\n",
        "def fibonaci(x):\n",
        "  f0 = 0\n",
        "  f1 = 1\n",
        "  zbir = 0\n",
        "\n",
        "  for i in range (2, x + 1):\n",
        "    zbir = f0 + f1\n",
        "    f0 = f1\n",
        "    f1 = zbir\n",
        "  return zbir\n",
        "\n",
        "x = int (input('Unesite ceo broj x:'))\n",
        "n = int (input ('Unesite ceo broj n:'))\n",
        "\n",
        "print(fibonaci(x)) #ispisuje nam koji je clan fibonacijevog niza\n",
        "print(stepen(3, 5))\n"
      ],
      "execution_count": 13,
      "outputs": [
        {
          "output_type": "stream",
          "name": "stdout",
          "text": [
            "Unesite ceo broj x:4\n",
            "Unesite ceo broj n:5\n",
            "3\n",
            "243\n"
          ]
        }
      ]
    },
    {
      "cell_type": "markdown",
      "metadata": {
        "id": "mTvKNTfT1Pgc"
      },
      "source": [
        "(3.) TRECI ZADATAK\n"
      ]
    },
    {
      "cell_type": "code",
      "metadata": {
        "id": "i6swlh6b1R5l"
      },
      "source": [
        "'''\n",
        "\"3. Napisati funkciju zapis(x, y) koja proverava da li se brojevi x i y zapisuju pomoću istih cifara. Funkcija treba da vrati jedinicu ako je uslov ispunjen, a nulu inače.\\n\",\n",
        "        \"Napisati program koji učitava dva cela broja i ispisuje da li je za njih pomenuti uslov ispunjen ili ne.\\n\",\n",
        "        \"\\n\",\n",
        "'''\n",
        "\n",
        "# najpre cemo da napravimo funkciju koja unetom broju odvaja cifre i stavlja ih u niz i onda taj niz sortira\n",
        "# da bi mogli da uporedimo da li su sortirane liste iste, ako jesu, onda se broj zapisuje pomocu istih cifara\n",
        "\n",
        "def sortiraj(n):\n",
        "  cifra = n % 10\n",
        "  lista = [cifra]\n",
        "  \n",
        "  n = n // 10\n",
        "  while n > 0:\n",
        "    if n % 10 != cifra:\n",
        "      lista = lista + [n % 10] # ovde sam intervenisao u kodu par puta\n",
        "      cifra = n % 10\n",
        "\n",
        "    n = n // 10\n",
        "\n",
        "  lista.sort()\n",
        "\n",
        "  lista2 = [lista[0]]\n",
        "  n = lista[0]\n",
        "\n",
        "  for i in lista:         #iskobeljao sam se ovde nekako\n",
        "    if i != n:\n",
        "      lista2 += [i]\n",
        "\n",
        "    n = i  \n",
        "  return lista2\n",
        "\n",
        "   \n",
        "def zapis(x, y):\n",
        "  sortiraj(x)\n",
        "  sortiraj(y)\n",
        "\n",
        "  if sortiraj(x) == sortiraj(y):\n",
        "    print('USLOV JE ISPUNJEN.')\n",
        "    return 1\n",
        "  else:\n",
        "    print('Uslov nije ispunjen.')\n",
        "    return 0\n",
        "\n",
        "\n",
        "x = int (input('Unesite ceo broj x:'))\n",
        "y = int (input('Unesite ceo broj y:'))\n",
        "\n",
        "print(zapis(x,y))\n"
      ],
      "execution_count": null,
      "outputs": []
    },
    {
      "cell_type": "markdown",
      "metadata": {
        "id": "nM1RSmyMeUBI"
      },
      "source": [
        "(4.) CETVRTI ZADATAK"
      ]
    },
    {
      "cell_type": "code",
      "metadata": {
        "colab": {
          "base_uri": "https://localhost:8080/"
        },
        "id": "dn4nzmo0eWyo",
        "outputId": "422ef964-abe7-4df2-9d58-0e387df3f72d"
      },
      "source": [
        "'''\n",
        "\"4. Napisati funkciju par_nepar(n) koja ispituje da li su cifre datog celog broja naizmenično parne i neparne.\\n\",\n",
        "        \"Napisati program koji učitava ceo broj i ispisuje da li on ispunjava pomenuti uslov ili ne.\\n\",\n",
        "        \"\\n\",\n",
        "'''\n",
        "\n",
        "# hajde da probamo da uradimo zadatak da spakujemo brojeve u dve liste, pa da promenimo parnost liste\n",
        "\n",
        "def par_nepar(n):\n",
        "\n",
        "  if n < 100:   # najpre proveravamo ako je broj dvocifren\n",
        "    if (n % 10) % 2 != 0 and (n // 10) % 2 == 0 or (n % 10) % 2 == 0 and (n // 10) % 2 != 0:\n",
        "      return print('NAIZMENICNO SU PARNE I NEPARNE')\n",
        "    else:\n",
        "      return print('Ne ispunjava uslov.')\n",
        "  else:       \n",
        "    lista1 = [n % 10] # listi 1 dodeljujemo prvu cifru sa kraja\n",
        "    lista2 = [(n % 100) // 10] # listi 2 dodeljujemo drugu cifru od pozadi\n",
        "\n",
        "    n = n // 100 # skracujemo broj za poslednje dve cifre\n",
        "    while n > 0:\n",
        "      lista1 += [n % 10]\n",
        "      lista2 += [(n % 100) // 10]\n",
        "\n",
        "      n = n // 100\n",
        "    # u ovom while smo svaki drugi ubacivali u listu 1 i isti proces za listu 2\n",
        "    lista1.sort()\n",
        "    lista2.sort()\n",
        "  \n",
        "    parnost1 = lista1[0] % 2\n",
        "    for i in lista1[1:]:\n",
        "      if i % 2 != parnost1:\n",
        "        return print('Ne ispunjava uslov.')\n",
        "\n",
        "    parnost2 = lista2[0] % 2\n",
        "    for i in lista2[1:]:\n",
        "      if i % 2 != parnost2:\n",
        "        return print('Ne ispunjava uslov.')\n",
        "\n",
        "    if lista1[0] % 2 == 0 and lista2[0] % 2 != 0 or lista1[0] % 2 != 0 and lista2[0] % 2 == 0:\n",
        "      return print('NAIZMENICNO SU PARNE I NEPARNE!')\n",
        "    # ovaj if iznad nam proverava da li su iste parnosti liste, tako sto uzmemo prvi clan obe liste\n",
        "    # a to mozemo posto smo u dva fora gore najpre ispitali parnost liste\n",
        "\n",
        "n = int (input('Unesite ceo broj n:'))\n",
        "\n",
        "print(par_nepar(n))\n",
        "\n",
        "# zasto mi pri pokretanju na kraju ispisuje None\n",
        "\n"
      ],
      "execution_count": 51,
      "outputs": [
        {
          "output_type": "stream",
          "name": "stdout",
          "text": [
            "Unesite ceo broj n:12344\n",
            "Ne ispunjava uslov.\n",
            "None\n"
          ]
        }
      ]
    },
    {
      "cell_type": "markdown",
      "metadata": {
        "id": "1ANQUGiTm4hy"
      },
      "source": [
        "(5.) PETI ZADATAK"
      ]
    },
    {
      "cell_type": "code",
      "metadata": {
        "colab": {
          "base_uri": "https://localhost:8080/"
        },
        "id": "q2g3KQM3m7tQ",
        "outputId": "08bedefd-9ab8-407a-82c8-bcb09ae28f09"
      },
      "source": [
        "'''\n",
        "\"5. Napisati funkciju romb(n) koja iscrtava romb čija je stranica dužine n. Napisati program koji učitava pozitivan broj i iscrtava odgovarajuću sliku. U slučaju neispravnog unosa, ispisati odgovarajuću poruku o grešci.\\n\",\n",
        "        \"\\n\",\n",
        "        \"```\\n\",\n",
        "        \"# Primer\\n\",\n",
        "        \"\\n\",\n",
        "        \"n = 5\\n\",\n",
        "        \"==========\\n\",\n",
        "        \"    *****\\n\",\n",
        "        \"   *****\\n\",\n",
        "        \"  *****\\n\",\n",
        "        \" *****\\n\",\n",
        "        \"*****\\n\",\n",
        "        \"\\n\",\n",
        "        \"=========\\n\",\n",
        "        \"n = 2\\n\",\n",
        "        \" **\\n\",\n",
        "        \"**\\n\",\n",
        "        \"```\"\n",
        "'''\n",
        "# na papiru smo zakljucili da stampa najpre n-(i + 1) praznina pa onda n zvezdica\n",
        "# kad bacis na papir jako je jednostavno\n",
        "def romb(n):\n",
        "  i = 0\n",
        "  while i < n:\n",
        "    string = (n - (i + 1)) * '   ' + n * ' * '\n",
        "    print(string)\n",
        "    print('\\n')\n",
        "    i += 1\n",
        "\n",
        "n = int (input ('Unesite pozitivan ceo broj:'))\n",
        "\n",
        "print(romb(n))"
      ],
      "execution_count": 60,
      "outputs": [
        {
          "output_type": "stream",
          "name": "stdout",
          "text": [
            "Unesite pozitivan ceo broj:18\n",
            "                                                    *  *  *  *  *  *  *  *  *  *  *  *  *  *  *  *  *  * \n",
            "\n",
            "\n",
            "                                                 *  *  *  *  *  *  *  *  *  *  *  *  *  *  *  *  *  * \n",
            "\n",
            "\n",
            "                                              *  *  *  *  *  *  *  *  *  *  *  *  *  *  *  *  *  * \n",
            "\n",
            "\n",
            "                                           *  *  *  *  *  *  *  *  *  *  *  *  *  *  *  *  *  * \n",
            "\n",
            "\n",
            "                                        *  *  *  *  *  *  *  *  *  *  *  *  *  *  *  *  *  * \n",
            "\n",
            "\n",
            "                                     *  *  *  *  *  *  *  *  *  *  *  *  *  *  *  *  *  * \n",
            "\n",
            "\n",
            "                                  *  *  *  *  *  *  *  *  *  *  *  *  *  *  *  *  *  * \n",
            "\n",
            "\n",
            "                               *  *  *  *  *  *  *  *  *  *  *  *  *  *  *  *  *  * \n",
            "\n",
            "\n",
            "                            *  *  *  *  *  *  *  *  *  *  *  *  *  *  *  *  *  * \n",
            "\n",
            "\n",
            "                         *  *  *  *  *  *  *  *  *  *  *  *  *  *  *  *  *  * \n",
            "\n",
            "\n",
            "                      *  *  *  *  *  *  *  *  *  *  *  *  *  *  *  *  *  * \n",
            "\n",
            "\n",
            "                   *  *  *  *  *  *  *  *  *  *  *  *  *  *  *  *  *  * \n",
            "\n",
            "\n",
            "                *  *  *  *  *  *  *  *  *  *  *  *  *  *  *  *  *  * \n",
            "\n",
            "\n",
            "             *  *  *  *  *  *  *  *  *  *  *  *  *  *  *  *  *  * \n",
            "\n",
            "\n",
            "          *  *  *  *  *  *  *  *  *  *  *  *  *  *  *  *  *  * \n",
            "\n",
            "\n",
            "       *  *  *  *  *  *  *  *  *  *  *  *  *  *  *  *  *  * \n",
            "\n",
            "\n",
            "    *  *  *  *  *  *  *  *  *  *  *  *  *  *  *  *  *  * \n",
            "\n",
            "\n",
            " *  *  *  *  *  *  *  *  *  *  *  *  *  *  *  *  *  * \n",
            "\n",
            "\n",
            "None\n"
          ]
        }
      ]
    }
  ]
}