{
  "nbformat": 4,
  "nbformat_minor": 0,
  "metadata": {
    "colab": {
      "name": "DomaciRad4.ipynb",
      "provenance": [],
      "collapsed_sections": [],
      "authorship_tag": "ABX9TyMoMP3Q1PfHfUCaggjMMTtH",
      "include_colab_link": true
    },
    "kernelspec": {
      "name": "python3",
      "display_name": "Python 3"
    },
    "language_info": {
      "name": "python"
    }
  },
  "cells": [
    {
      "cell_type": "markdown",
      "metadata": {
        "id": "view-in-github",
        "colab_type": "text"
      },
      "source": [
        "<a href=\"https://colab.research.google.com/github/MarkoPavlovic95/PythonDevelopment/blob/main/DomaciRad4.ipynb\" target=\"_parent\"><img src=\"https://colab.research.google.com/assets/colab-badge.svg\" alt=\"Open In Colab\"/></a>"
      ]
    },
    {
      "cell_type": "markdown",
      "metadata": {
        "id": "ce6QZt51xJCH"
      },
      "source": [
        "DOMACI ZADATAK"
      ]
    },
    {
      "cell_type": "markdown",
      "metadata": {
        "id": "XuTfIOSMxLz_"
      },
      "source": [
        "(1.) Prvi zadatak"
      ]
    },
    {
      "cell_type": "code",
      "metadata": {
        "id": "pValyudDu9hj",
        "colab": {
          "base_uri": "https://localhost:8080/"
        },
        "outputId": "05606ac4-80b1-4279-f8d4-3daf62db4120"
      },
      "source": [
        "\n",
        "'''1. U prodavnici se nalaze artikli cije su cene pozitivni realni brojevi. Napisati program koji ucitava cene artikala sve do unosa broja nula i izracunava i ispisuje prosecnu\\n\",\n",
        "        \"vrednost cena u radnji. U slucaju neispravnog unosa, ispisati odgovarajucu poruku o gresci.\\n\",\n",
        "'''\n",
        "cena = float (input ('Unesite cenu artikla:')) #unosimo cenu prvog artikla\n",
        "zbir = 0  #zbir cena artikala\n",
        "i = 0 #brojac koji ce da nam broji koliko imamo artikala u prodavnici\n",
        "\n",
        "while cena == 0:\n",
        "  i = i\n",
        "  cena = float (input  ('Unesite cenu novog artikla:'))\n",
        "'''Ovaj prvi blok while nam se odnosi samo na prvi unos cene, tj obezbedili smo da nam se program dalje izvrsava iako unesemo\n",
        "   prvu cenu artikla da nam je nula, sto bez ovog prvog while bloka nije bilo moguce.\n",
        "\n",
        "   Cim smo uneli prvu nenula cifru odatle nam se zadatak nastavlja na drugom bloku while.\n",
        "'''\n",
        "while cena != 0:\n",
        "  if cena == 0:\n",
        "    break  #ovo break nam prekida program kada unesemo prvu nula cenu nakon nekih pozitivnih vrednosti(ili negativnih)\n",
        "  elif cena < 0:\n",
        "    print('Niste ispravno uneli cenu!')\n",
        "    i = i #obezbedjujemo da nam brojac ne broji negativnu cenu\n",
        "  else:\n",
        "    zbir += cena\n",
        "    i += 1\n",
        "  cena = float (input ('Unesite cenu novog artikla:'))\n",
        "  \n",
        "prosecna = zbir / i\n",
        "print(f'Prosecna cena artikla je {prosecna}')\n",
        "\n",
        "\n",
        "\n",
        "\n",
        "\n"
      ],
      "execution_count": null,
      "outputs": [
        {
          "output_type": "stream",
          "name": "stdout",
          "text": [
            "Unesite cenu artikla:100.9\n",
            "Unesite cenu novog artikla:20.956\n",
            "Unesite cenu novog artikla:3.67\n",
            "Unesite cenu novog artikla:0\n",
            "Prosecna cena artikla je 41.842000000000006\n"
          ]
        }
      ]
    },
    {
      "cell_type": "markdown",
      "metadata": {
        "id": "hBvffWCrxIKx"
      },
      "source": [
        "(5.) Peti zadatak"
      ]
    },
    {
      "cell_type": "code",
      "metadata": {
        "id": "9LrWliQi3WET",
        "colab": {
          "base_uri": "https://localhost:8080/"
        },
        "outputId": "31b709a0-334f-4661-dd2c-73e5edc1c1fe"
      },
      "source": [
        "'''5. Napisati program koji ucitava ceo broj n, a zatim i n karaktera. Program treba da proverava da li se od unetih karaktera moze napisati rec \\\"qa\\\". U slucaju neispravnog unosa, ispisati odgovarajucu poruku o gresci.\\n\"\n",
        "'''\n",
        "\n",
        "n = float (input ('Unesite pozitivan ceo broj koji ce nam predstavljati broj karaktera:'))\n",
        "\n",
        "while n - (n // 1) != 0 or n < 0 or n == 0: #proveravamo da li nam je n ceo broj (razlicito od 0 da bi imalo smisla)\n",
        "  print('POGRESAN UNOS!!!')\n",
        "  n = float (input ('Pokusajte ponovo:'))\n",
        "\n",
        "n = int (n) #konvertujemo float u int posto nam je broj karaktera ceo broj\n",
        "\n",
        "string = '' #stavljamo prazan string posto cemo u njega da pakujemo sva slova koja unosimo\n",
        "\n",
        "for i in range(n):\n",
        "  karakter = input('Unesite proizvoljan karakter:')\n",
        "  while len(karakter) == 0 or len(karakter) > 1 :     #ovde si na pocetku zeznuo i stavio and umesto or... \n",
        "    print('!!!MOZETE UNETI SAMO JEDAN KARAKTER!!!')\n",
        "    print('Pokusajte ponovo.')\n",
        "    karakter = input('Unesite proizvoljan karakter:')\n",
        "  string += karakter #pakujemo karakter u string\n",
        "\n",
        "#sa ovim for blokom pakujemo svaki uneti karakter u string koji cemo dalje ispitivati\n",
        "#takodje proveravamo i da li je doslo do greske pri unosu karaktera, posto nam je karakter\n",
        "#string duzine 1 (jedno slovo, broj, ...)\n",
        "\n",
        "broj_slova_o = string.count('o') #brojimo pojavljivanje slova o u stringu, posto nam je o jedino slovo koje se pojavljuje vise puta\n",
        "\n",
        "if 'k' in string and 'r' in string and 'n' in string and 'a' in string and broj_slova_o >= 2:  #da li moze sofisticiraniji nacin ovde? Trenutno ne pada na pamet...\n",
        "  print('Pomocu unetih karaktera je moguce ispisati rec \"korona\"')\n",
        "else:\n",
        "  print('Nije moguce ispisati zadatu rec pomocu unetih karaktera. :( :( :(')\n",
        "\n"
      ],
      "execution_count": null,
      "outputs": [
        {
          "name": "stdout",
          "output_type": "stream",
          "text": [
            "Unesite pozitivan ceo broj koji ce nam predstavljati broj karaktera:11\n"
          ]
        }
      ]
    },
    {
      "cell_type": "markdown",
      "metadata": {
        "id": "msmBhqUB9spp"
      },
      "source": [
        "Test primerak da li nam f-ja count i f-ja len rade na stringu"
      ]
    },
    {
      "cell_type": "code",
      "metadata": {
        "id": "DrGkYq8Y9i_C"
      },
      "source": [
        "a = 'assodosaoosao'\n",
        "n = a.count('o')\n",
        "print(n)\n",
        "len(a)"
      ],
      "execution_count": null,
      "outputs": []
    },
    {
      "cell_type": "markdown",
      "metadata": {
        "id": "oyFDAlIwCRZf"
      },
      "source": [
        "(7.) Sedmi zadatak"
      ]
    },
    {
      "cell_type": "markdown",
      "metadata": {
        "id": "lg9oFfJbDy_t"
      },
      "source": [
        "test primerak pred sedmi zadatak"
      ]
    },
    {
      "cell_type": "code",
      "metadata": {
        "id": "BR2rJGmdDx8u"
      },
      "source": [
        "n = int(input('Unesite  neparan ceo broj:'))\n",
        "\n",
        "n = int (n / 2)\n",
        "print(n)\n"
      ],
      "execution_count": null,
      "outputs": []
    },
    {
      "cell_type": "code",
      "metadata": {
        "id": "h0Ec14QPCSW4"
      },
      "source": [
        "'''7. Napisati program koji za uneti neparan pozitivan ceo broj n, ispisuje veliko plus dimenzije n\\n\",\n",
        "        \"\\n\",\n",
        "        \"```\\n\",\n",
        "        \"Unesite n:\\n\",\n",
        "        \"==========\\n\",\n",
        "        \"5\\n\",\n",
        "        \"==========\\n\",\n",
        "        \"    +\\n\",\n",
        "        \"    +\\n\",\n",
        "        \"+ + + + +\\n\",\n",
        "        \"    +\\n\",\n",
        "        \"    +\\n\",\n",
        "        \"```\\n\",\n",
        "        \"\\n\",\n",
        "'''\n",
        "\n",
        "n = float (input ('Unesite pozitivan  neparan ceo broj:'))\n",
        "#U narednom while bloku cemo da proverimo da li smo uneli broj ispravno\n",
        "while n - n // 1 != 0 or n <= 0 or n % 2 == 0:    \n",
        "  print('Pogresan unos, pokusajte ponovo:')\n",
        "  n = float (input ('Unesite pozitivan  neparan ceo broj:'))\n",
        "\n",
        "n = int (n) #pretvaramo broj u int i u narednim linijama koda nam je on int\n",
        "\n",
        "string = ''\n",
        "i = 0\n",
        "a = '   ' \n",
        "   #ovde zbog lepseg izgleda rezultata stavljamo da nam je duzina od a jednaka 3 karaktera\n",
        "   #i karakter + predstavljamo kao razmak plus razmak\n",
        "   #zadatak sam inicijalno radio jednim razmakom i plusom bez razmaka\n",
        "while i < n:\n",
        "  if i == int (n / 2):  #numeracija krece od 0, pa nam je vrsta u sredini indeksa int (n/2); string = aaaAaaa, indeks od A nam je 3\n",
        "                        #npr da smo uneli 7, srednja vrsta nam je 3 sto je int (7/2)\n",
        "    string += n * ' + ' \n",
        "  else:\n",
        "    string += int (n / 2) * a + ' + ' #ako nije srednji clan, onda nam stampa 3 praznine i plus u nasem primeru\n",
        "  i += 1\n",
        "  print(string + '\\n')\n",
        "  string = '' #ovde resetujemo string nakon stampanja vrste \n",
        "\n",
        "#NIKAKO DA USPEM SA DVOSTRUKIM FOR DA ODRADIM... PROBAJ OPET TO!\n",
        "\n",
        "\n",
        "\n",
        "\n",
        "\n"
      ],
      "execution_count": null,
      "outputs": []
    },
    {
      "cell_type": "markdown",
      "metadata": {
        "id": "6AwWi3wxZGL3"
      },
      "source": [
        "Testiranje nekih operacija sa stringovima"
      ]
    },
    {
      "cell_type": "code",
      "metadata": {
        "id": "jv3uYgHIMF7d"
      },
      "source": [
        "a = ' '\n",
        "b = 5 * a + '+' + 5 * a\n",
        "print(b)\n",
        "m = 5\n",
        "a = int (m / 2)\n",
        "print(a)"
      ],
      "execution_count": null,
      "outputs": []
    },
    {
      "cell_type": "markdown",
      "metadata": {
        "id": "nZKYb9F6ZQ-N"
      },
      "source": [
        " (9.) Deveti zadatak"
      ]
    },
    {
      "cell_type": "code",
      "metadata": {
        "id": "0EGjHbmJZepX"
      },
      "source": [
        "'''\n",
        "\"9. Napisati program koji za uneti pozitivan ceo broj n, ispisuje zvezdice i tako iscrtava odgovarajucu sliku. Slika predstavlja pravougli trougao sastavljen od zvezdica. Kateta trougla je duzine n, a prav ugao nalazi se u gornjem desnom uglu slike. \\n\",\n",
        "        \"\\n\",\n",
        "        \"```\\n\",\n",
        "        \"# n = 3\\n\",\n",
        "        \"* * *\\n\",\n",
        "        \"  * *\\n\",\n",
        "        \"    *\\n\",\n",
        "        \"\\n\",\n",
        "        \"==========\\n\",\n",
        "        \"\\n\",\n",
        "        \"# n = 4\\n\",\n",
        "        \"* * * *\\n\",\n",
        "        \"  * * *\\n\",\n",
        "        \"    * *\\n\",\n",
        "        \"      *\\n\",\n",
        "        \"```\\n\"\n",
        "'''\n",
        "n = float (input ('Unesite pozitivan ceo broj:'))\n",
        "#U narednom while bloku cemo da proverimo da li smo uneli broj ispravno\n",
        "while n - n // 1 != 0 or n <= 0:    \n",
        "  print('Pogresan unos, pokusajte ponovo:')\n",
        "  n = float (input ('Unesite pozitivan ceo broj:'))\n",
        "\n",
        "n = int (n) #pretvaramo broj u int i u narednim linijama koda nam je on int\n",
        "\n",
        "string = ''\n",
        "i = 0\n",
        "while i < n:\n",
        "  string += i * '  ' + (n - i) * ' *'  #mnozimo i praznina plus (n - i) zvezdica\n",
        "                                       #i nam krece od nule, znaci u prvoj iteraciji imamo npr ako je n=4\n",
        "                                       #imamo nula razmaka i 4 zvezdice\n",
        "                                       #u drugoj iteraciji imamo 1 prazninu i 3 zvezdice\n",
        "                                       #dakle primecujemo da imamo i praznina i n-i zvezdica\n",
        "  print(string + '\\n')\n",
        "  string = ''\n",
        "  i += 1\n",
        "\n",
        "#DVA RAZMAKA ('  ') I RAZMAK ZVEZDICA (' *') SU ZBOG LEPSEG ISPISA REZULTATA \n",
        "#NI OVAJ ZADATAK TRENUTNO NISAM USPEO SA UGNJEZDENIM FOR...\n"
      ],
      "execution_count": null,
      "outputs": []
    }
  ]
}