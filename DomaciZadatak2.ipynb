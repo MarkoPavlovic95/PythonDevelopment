{
  "nbformat": 4,
  "nbformat_minor": 0,
  "metadata": {
    "colab": {
      "name": "DomaciZadatak2.ipynb",
      "provenance": [],
      "collapsed_sections": [],
      "authorship_tag": "ABX9TyP9UiBbnDORRRJ0n4Rm5AiG",
      "include_colab_link": true
    },
    "kernelspec": {
      "name": "python3",
      "display_name": "Python 3"
    },
    "language_info": {
      "name": "python"
    }
  },
  "cells": [
    {
      "cell_type": "markdown",
      "metadata": {
        "id": "view-in-github",
        "colab_type": "text"
      },
      "source": [
        "<a href=\"https://colab.research.google.com/github/MarkoPavlovic95/PythonDevelopment/blob/main/DomaciZadatak2.ipynb\" target=\"_parent\"><img src=\"https://colab.research.google.com/assets/colab-badge.svg\" alt=\"Open In Colab\"/></a>"
      ]
    },
    {
      "cell_type": "markdown",
      "metadata": {
        "id": "fDJAztdfQk2I"
      },
      "source": [
        "Prvi zadatak"
      ]
    },
    {
      "cell_type": "code",
      "metadata": {
        "colab": {
          "base_uri": "https://localhost:8080/"
        },
        "id": "IgjIG4g0LSRY",
        "outputId": "9fcd4377-5a55-4db5-f757-1f705c1d0249"
      },
      "source": [
        "cenaArtikla = float (input('Unesite cenu artikla:'))\n",
        "kolicina = int (input('Unesite kolicinu:'))\n",
        "iznos = float (input('Potrosac je platio:'))  #iznos koji je dao potrosac\n",
        "cena = cenaArtikla*kolicina\n",
        "kusur = iznos - cena \n",
        "\n",
        "if cena > iznos:\n",
        "  print('Potrosac nema dovoljno novca da plati!')\n",
        "else:\n",
        "  print(f'Kusur koji vracamo potrosacu je {kusur}')\n",
        "\n"
      ],
      "execution_count": null,
      "outputs": [
        {
          "output_type": "stream",
          "name": "stdout",
          "text": [
            "Unesite cenu artikla:45\n",
            "Unesite kolicinu:5\n",
            "Potrosac je platio:200\n",
            "Potrosac nema dovoljno novca da plati!\n"
          ]
        }
      ]
    },
    {
      "cell_type": "markdown",
      "metadata": {
        "id": "qS3T9l0bQpbt"
      },
      "source": [
        "Drugi zadatak"
      ]
    },
    {
      "cell_type": "code",
      "metadata": {
        "id": "VRsFxrVjQqlV"
      },
      "source": [
        "dan = input('Unesite jedan dan u nedelji:')\n",
        "\n",
        "#najpre cemo da se obezbedimo da ako korisnik ne unese dan velikim slovom da mu izbacuje da je pogresan unos (veliko slovo ili bilo sta sto nije dan u nedelji)\n",
        "if dan != 'Ponedeljak' and dan != 'Utorak' and dan != 'Sreda' and dan != 'Cetvrtak' and dan != 'Petak' and dan != 'Subota' and dan != 'Nedelja':\n",
        "    print(\"Korisnice, pogresno ste uneli dan u nedelji!\")\n",
        "elif dan == 'Ponedeljak':\n",
        "    print(1)\n",
        "elif dan =='Utorak':\n",
        "    print(2)\n",
        "elif dan == 'Sreda':\n",
        "    print(3)\n",
        "elif dan == 'Cetvrtak':\n",
        "    print(4)\n",
        "elif dan== 'Petak':\n",
        "    print(5)\n",
        "elif dan == 'Subota':\n",
        "    print(6)\n",
        "else:\n",
        "    print(7)\n"
      ],
      "execution_count": null,
      "outputs": []
    },
    {
      "cell_type": "markdown",
      "metadata": {
        "id": "zNQfOC9wTpGB"
      },
      "source": [
        "Cetvrti zadatak\n"
      ]
    },
    {
      "cell_type": "code",
      "metadata": {
        "colab": {
          "base_uri": "https://localhost:8080/"
        },
        "id": "nNnk1x6STqvT",
        "outputId": "00b239a5-c33a-47a4-9361-da20c3d2fc75"
      },
      "source": [
        "broj = int (input('Unesite pozitivan trocifreni broj:'))\n",
        "\n",
        "if broj < 0 or broj > 999:\n",
        "  print('Niste uneli broj po instrukcijama!')\n",
        "else:\n",
        "  stotine = broj // 100\n",
        "  print(f' stotine:{stotine}')\n",
        "  desetice = (broj % 100) // 10\n",
        "  print(f' desetice:{desetice}')\n",
        "  jedinice = broj % 10\n",
        "  print(f' jedinice:{jedinice}')\n"
      ],
      "execution_count": null,
      "outputs": [
        {
          "output_type": "stream",
          "name": "stdout",
          "text": [
            "Unesite pozitivan trocifreni broj:197\n",
            " stotine:1\n",
            " desetice:9\n",
            " jedinice:7\n"
          ]
        }
      ]
    },
    {
      "cell_type": "markdown",
      "metadata": {
        "id": "4iQmviH0VYub"
      },
      "source": [
        "Peti zadatak"
      ]
    },
    {
      "cell_type": "code",
      "metadata": {
        "colab": {
          "base_uri": "https://localhost:8080/"
        },
        "id": "nBBCRfecVb0J",
        "outputId": "f70d2717-1498-42a4-e575-60a5861ecae3"
      },
      "source": [
        "broj = int (input('Unesite pozitivan cetvorocifreni broj:'))\n",
        "\n",
        "if broj < 1000 or broj > 9999:\n",
        "  print('NISTE UNELI BROJ PO INSTRUKCIJAMA!!!')\n",
        "else:\n",
        "  hiljade = broj // 1000    #celobrojno deljenje nam daje prvu cifru u ovom slucaju\n",
        "  stotine = (broj % 1000) // 100 #ostatak pri deljenju sa hiljadu nam je trocifren broj koji cine cifre sve sem hiljada, pa sa // dobijamo prvu cifru tog trocifrenog broja\n",
        "                                 #npr imamo 5467, posle zagrade nam ostaje 467 posto je to ostatak pri deljenju sa 100\n",
        "                                 #dalje taj 467 zelobrojno delimo sa 100 i dobijamo 4, sto nam je cifra stotina\n",
        "  desetice = (broj // 10) % 10\n",
        "  jedinice = broj % 10\n",
        "  print( f' Najveca cifra u cetvorocifrenom broju je: {max(hiljade, stotine, desetice, jedinice)}')"
      ],
      "execution_count": null,
      "outputs": [
        {
          "output_type": "stream",
          "name": "stdout",
          "text": [
            "Unesite pozitivan cetvorocifreni broj:1009\n",
            " Najveca cifra u cetvorocifrenom broju je: 9\n"
          ]
        }
      ]
    },
    {
      "cell_type": "markdown",
      "metadata": {
        "id": "0JoviH1MXb1P"
      },
      "source": [
        "Treci zadatak\n"
      ]
    },
    {
      "cell_type": "code",
      "metadata": {
        "colab": {
          "base_uri": "https://localhost:8080/"
        },
        "id": "jfNDaU7wXeJe",
        "outputId": "b1e5f7b4-12bd-4b30-e988-2d776c95ffa6"
      },
      "source": [
        "godina = int (input('Unesite godinu:'))\n",
        "mesec = int (input('Unesite redni broj meseca mesec:'))\n",
        "if (godina < 0) or (mesec <= 0 or mesec > 12):\n",
        "  print('POGRESNO STE UNELI GODINU ILI DATUM!!!')\n",
        "else:\n",
        "  if mesec == 1:\n",
        "     print('Januar')\n",
        "     print(31)\n",
        "  elif mesec == 2:\n",
        "     if ((godina % 4 == 0) and (godina % 100) != 0) or (godina % 400 == 0):\n",
        "        print('Februar')\n",
        "        print(29)\n",
        "     else:\n",
        "        print('Februar')\n",
        "        print(28)\n",
        "  elif mesec == 3:\n",
        "     print('Mart')\n",
        "     print(31)\n",
        "  elif mesec == 4:\n",
        "     print('April')\n",
        "     print(30)\n",
        "  elif mesec == 5:\n",
        "     print('Maj')\n",
        "     print(31)\n",
        "  elif mesec == 6:\n",
        "     print('Jun')\n",
        "     print(30)\n",
        "  elif mesec == 7:\n",
        "     print('Jul')\n",
        "     print(31)\n",
        "  elif mesec == 8:\n",
        "     print('Avgust')\n",
        "     print(31)\n",
        "  elif mesec == 9:\n",
        "     print('Septembar')\n",
        "     print(30)\n",
        "  elif mesec == 10:\n",
        "     print('Oktobar')\n",
        "     print(31)\n",
        "  elif mesec == 11:\n",
        "     print('Novembar')\n",
        "     print(30)\n",
        "  else:\n",
        "     print('Decembar')\n",
        "     print(31)\n",
        "\n",
        "  \n",
        "\n",
        "\n"
      ],
      "execution_count": null,
      "outputs": [
        {
          "output_type": "stream",
          "name": "stdout",
          "text": [
            "Unesite godinu:1900\n",
            "Unesite redni broj meseca mesec:3\n",
            "Mart\n",
            "31\n"
          ]
        }
      ]
    }
  ]
}